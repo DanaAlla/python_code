{
  "cells": [
    {
      "cell_type": "markdown",
      "metadata": {
        "id": "vaHp3pGhvtpO"
      },
      "source": [
        "# Random Selection Code :)\n"
      ]
    },
    {
      "cell_type": "code",
      "execution_count": null,
      "metadata": {
        "id": "EhwI4VUXvtpR"
      },
      "outputs": [],
      "source": [
        "import random\n",
        "\n",
        "# Define the four test lists\n",
        "level1_list = [1, 2, 3, 4]\n",
        "level2_list = ['a', 'b', 'c','d']\n",
        "level3_list = [99, 88, 77,66]\n",
        "level4_list = [\"1$\",\"2&\",\"3%\",\"4©\"]"
      ]
    },
    {
      "cell_type": "markdown",
      "metadata": {
        "id": "4E60_8uUvtpT"
      },
      "source": [
        "Think about a code that help us to have random new mixed lists, each list should have one element from each level lists.\n",
        "\n",
        "Output may be like that following:\n",
        "```python\n",
        "team1 = [1, 'c', 88, '2&']\n",
        "team2 = [4, 'a', 99, '3%']\n",
        "team3 = [2, 'b', 77, '4©']\n",
        "team4 = [3, 'd', 66, '1$']\n",
        "```\n",
        "\n"
      ]
    },
    {
      "cell_type": "code",
      "execution_count": null,
      "metadata": {
        "id": "bie2X5mXvtpU",
        "outputId": "6ec5a99a-8e45-491b-bdde-5b9707c1b37a"
      },
      "outputs": [
        {
          "name": "stdout",
          "output_type": "stream",
          "text": [
            "team1 = [3, 'b', 99, '3%']\n",
            "team2 = [2, 'a', 88, '4©']\n",
            "team3 = [1, 'd', 77, '2&']\n",
            "team4 = [4, 'c', 66, '1$']\n"
          ]
        }
      ],
      "source": [
        "# your code here\n",
        "import random\n",
        "\n",
        "# Define the four test lists\n",
        "level1_list = [1, 2, 3, 4]\n",
        "level2_list = ['a', 'b', 'c','d']\n",
        "level3_list = [99, 88, 77,66]\n",
        "level4_list = [\"1$\",\"2&\",\"3%\",\"4©\"]\n",
        "\n",
        "\n",
        "# Number of teams\n",
        "num_teams = len(level1_list)\n",
        "\n",
        "# Initialize teams\n",
        "teams = [[] for i in range(num_teams)]\n",
        "\n",
        "# Randomly sample elements from each level list and assign to teams\n",
        "for i in range(num_teams):\n",
        "    #hn3ml pop ll element ally hn5taro 34o2y\n",
        "    teams[i].append(level1_list.pop(random.randint(0, len(level1_list)-1 )))\n",
        "    teams[i].append(level2_list.pop(random.randint(0, len(level2_list)-1)))\n",
        "    teams[i].append(level3_list.pop(random.randint(0, len(level3_list)-1 )))\n",
        "    teams[i].append(level4_list.pop(random.randint(0, len(level4_list)-1 )))\n",
        "\n",
        "# Print teams\n",
        "for i, team in enumerate(teams):\n",
        "    print(f\"team{i + 1} = {team}\")\n"
      ]
    },
    {
      "cell_type": "code",
      "execution_count": null,
      "metadata": {
        "id": "sw9cXVCQvtpW"
      },
      "outputs": [],
      "source": []
    },
    {
      "cell_type": "code",
      "execution_count": null,
      "metadata": {
        "id": "TwnpPdPavtpX"
      },
      "outputs": [],
      "source": []
    }
  ],
  "metadata": {
    "kernelspec": {
      "display_name": "pubmed",
      "language": "python",
      "name": "python3"
    },
    "language_info": {
      "codemirror_mode": {
        "name": "ipython",
        "version": 3
      },
      "file_extension": ".py",
      "mimetype": "text/x-python",
      "name": "python",
      "nbconvert_exporter": "python",
      "pygments_lexer": "ipython3",
      "version": "3.12.4"
    },
    "colab": {
      "provenance": []
    }
  },
  "nbformat": 4,
  "nbformat_minor": 0
}